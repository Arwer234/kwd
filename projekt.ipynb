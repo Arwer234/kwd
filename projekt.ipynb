{
 "cells": [
  {
   "cell_type": "markdown",
   "id": "ac4d6a66",
   "metadata": {},
   "source": [
    "## Airfoil "
   ]
  },
  {
   "cell_type": "markdown",
   "id": "07e96b4a",
   "metadata": {},
   "source": [
    "### Importing the data and standarization"
   ]
  },
  {
   "cell_type": "code",
   "execution_count": 1,
   "id": "0f017d0d",
   "metadata": {},
   "outputs": [
    {
     "name": "stderr",
     "output_type": "stream",
     "text": [
      "C:\\Users\\Jakub Filipowski\\AppData\\Local\\Temp\\ipykernel_1704\\462444645.py:2: FutureWarning: In a future version of pandas all arguments of read_csv except for the argument 'filepath_or_buffer' will be keyword-only.\n",
      "  df = pd.read_csv('kwd_dane.csv', ';')\n"
     ]
    },
    {
     "name": "stdout",
     "output_type": "stream",
     "text": [
      "(1503, 6)\n",
      "   Column1  Column2  Column3  Column4   Column5\n",
      "0      800      0.0   0.3048     71.3  0.002663\n",
      "1     1000      0.0   0.3048     71.3  0.002663\n",
      "2     1250      0.0   0.3048     71.3  0.002663\n",
      "3     1600      0.0   0.3048     71.3  0.002663\n",
      "4     2000      0.0   0.3048     71.3  0.002663\n",
      "\n",
      "Data after standarization: \n",
      " [[-0.6620227  -1.14640293  1.79929926  1.31293526 -0.64480461]\n",
      " [-0.59856135 -1.14640293  1.79929926  1.31293526 -0.64480461]\n",
      " [-0.51923465 -1.14640293  1.79929926  1.31293526 -0.64480461]\n",
      " ...\n",
      " [ 0.353359    1.49044302 -0.37373954 -0.72334483  3.17277251]\n",
      " [ 0.67066578  1.49044302 -0.37373954 -0.72334483  3.17277251]\n",
      " [ 1.08316459  1.49044302 -0.37373954 -0.72334483  3.17277251]]\n"
     ]
    }
   ],
   "source": [
    "import pandas as pd\n",
    "df = pd.read_csv('kwd_dane.csv', ';')\n",
    "\n",
    "print(df.shape)\n",
    "dir(df)\n",
    "airfoil_data = df[['Column1', 'Column2', 'Column3', 'Column4', 'Column5']]\n",
    "airfoil_target = df[['Column6']]\n",
    "\n",
    "print(airfoil_data.head())\n",
    "\n",
    "from sklearn.preprocessing import StandardScaler\n",
    "scaler = StandardScaler()\n",
    "scaled_data = scaler.fit_transform(airfoil_data)\n",
    "scaled_target = scaler.fit_transform(airfoil_target)\n",
    "\n",
    "print('\\nData after standarization: \\n',scaled_data)"
   ]
  },
  {
   "cell_type": "markdown",
   "id": "f98b11c3",
   "metadata": {},
   "source": [
    "### Dividing the data into test and train bundles"
   ]
  },
  {
   "cell_type": "code",
   "execution_count": 2,
   "id": "3bcccadd",
   "metadata": {},
   "outputs": [],
   "source": [
    "from sklearn.model_selection import train_test_split\n",
    "\n",
    "airfoil_train_data, airfoil_test_data, \\\n",
    "airfoil_train_target, airfoil_test_target = \\\n",
    "train_test_split(scaled_data,scaled_target, test_size=0.1, random_state=10)"
   ]
  },
  {
   "cell_type": "markdown",
   "id": "721e21c1",
   "metadata": {},
   "source": [
    "### Training the model"
   ]
  },
  {
   "cell_type": "code",
   "execution_count": 3,
   "id": "798cff9a",
   "metadata": {},
   "outputs": [
    {
     "data": {
      "text/plain": [
       "LinearRegression()"
      ]
     },
     "execution_count": 3,
     "metadata": {},
     "output_type": "execute_result"
    }
   ],
   "source": [
    "from sklearn.linear_model import LinearRegression\n",
    "\n",
    "linear_regression = LinearRegression()\n",
    "linear_regression.fit(airfoil_train_data, airfoil_train_target)"
   ]
  },
  {
   "cell_type": "markdown",
   "id": "357281d2",
   "metadata": {},
   "source": [
    "### Checking the accuracy of the model"
   ]
  },
  {
   "cell_type": "code",
   "execution_count": 4,
   "id": "0d2611db",
   "metadata": {},
   "outputs": [
    {
     "name": "stdout",
     "output_type": "stream",
     "text": [
      "Scores after cross-validation: \n",
      " [ 0.72438555  0.61055508  0.47759241  0.58364592  0.49893908 -0.7028952\n",
      "  0.12153927  0.58272628]\n",
      "Mean squared error of a learned model: 0.43\n",
      "Variance score: 0.53\n",
      "Coefficients of a learned model: \n",
      " [[-0.57924376 -0.35579577 -0.48860374  0.23074334 -0.28675122]]\n",
      "Lasso regression variance score: 0.53\n"
     ]
    }
   ],
   "source": [
    "from sklearn.metrics import mean_squared_error\n",
    "from sklearn.metrics import r2_score\n",
    "from sklearn.model_selection import cross_val_score\n",
    "from sklearn.linear_model import Lasso\n",
    "\n",
    "scores = cross_val_score(LinearRegression(), airfoil_data, airfoil_target, cv=8)\n",
    "print(\"Scores after cross-validation: \\n\", scores)\n",
    "print(\"Mean squared error of a learned model: %.2f\" % \n",
    "      mean_squared_error(airfoil_test_target, linear_regression.predict(airfoil_test_data)))\n",
    "print('Variance score: %.2f' % r2_score(airfoil_test_target, linear_regression.predict(airfoil_test_data)))\n",
    "print('Coefficients of a learned model: \\n', linear_regression.coef_)\n",
    "\n",
    "lasso_regression = Lasso(alpha=0.01)\n",
    "lasso_regression.fit(airfoil_train_data, airfoil_train_target)\n",
    "score = lasso_regression.score(airfoil_test_data, airfoil_test_target) #r2 score\n",
    "print(\"Lasso regression variance score: %.2f\" % score)"
   ]
  },
  {
   "cell_type": "markdown",
   "id": "088f8c39",
   "metadata": {},
   "source": [
    "### Checking the prediction for a specific case from the data"
   ]
  },
  {
   "cell_type": "code",
   "execution_count": 5,
   "id": "e467f2c7",
   "metadata": {
    "scrolled": true
   },
   "outputs": [
    {
     "name": "stdout",
     "output_type": "stream",
     "text": [
      "[[0.27059092]]\n"
     ]
    }
   ],
   "source": [
    "id=1\n",
    "linear_regression_prediction = linear_regression.predict(airfoil_test_data[id,:].reshape(1,-1))\n",
    "\n",
    "print(linear_regression_prediction)\n"
   ]
  },
  {
   "cell_type": "markdown",
   "id": "94fb79a1",
   "metadata": {},
   "source": [
    "## Using Polynomial Features to enhance the model"
   ]
  },
  {
   "cell_type": "code",
   "execution_count": 6,
   "id": "c9b3fe35",
   "metadata": {},
   "outputs": [
    {
     "name": "stderr",
     "output_type": "stream",
     "text": [
      "G:\\anaconda3\\lib\\site-packages\\sklearn\\linear_model\\_base.py:141: FutureWarning: 'normalize' was deprecated in version 1.0 and will be removed in 1.2.\n",
      "If you wish to scale the data, use Pipeline with a StandardScaler in a preprocessing stage. To reproduce the previous behavior:\n",
      "\n",
      "from sklearn.pipeline import make_pipeline\n",
      "\n",
      "model = make_pipeline(StandardScaler(with_mean=False), LinearRegression())\n",
      "\n",
      "If you wish to pass a sample_weight parameter, you need to pass it as a fit parameter to each step of the pipeline as follows:\n",
      "\n",
      "kwargs = {s[0] + '__sample_weight': sample_weight for s in model.steps}\n",
      "model.fit(X, y, **kwargs)\n",
      "\n",
      "\n",
      "  warnings.warn(\n"
     ]
    },
    {
     "name": "stdout",
     "output_type": "stream",
     "text": [
      "Mean squared error of a linear moderl using polynomial features: 0.14\n",
      "Linear Regression variance score using polynomial features: 0.85\n"
     ]
    }
   ],
   "source": [
    "from sklearn.preprocessing import PolynomialFeatures\n",
    "\n",
    "pt = PolynomialFeatures(6, )#interaction_only=True)\n",
    "airfoil_train_poly = pt.fit_transform(airfoil_train_data)\n",
    "airfoil_test_poly = pt.fit_transform(airfoil_test_data)\n",
    "\n",
    "lr_poly = LinearRegression(normalize=True)\n",
    "lr_poly.fit(airfoil_train_poly, airfoil_train_target)\n",
    "\n",
    "from sklearn.metrics import mean_squared_error\n",
    "\n",
    "print(\"Mean squared error of a linear moderl using polynomial features: %.2f\" % \n",
    "      mean_squared_error(airfoil_test_target, lr_poly.predict(airfoil_test_poly)))\n",
    "score = lr_poly.score(airfoil_test_poly, airfoil_test_target) #r2_score\n",
    "print(\"Linear Regression variance score using polynomial features: %.2f\" % score)"
   ]
  },
  {
   "cell_type": "markdown",
   "id": "aca8d8f8",
   "metadata": {},
   "source": [
    "### Plotting the importance of the degree of Polynomial Features in relation to the model accuracy"
   ]
  },
  {
   "cell_type": "code",
   "execution_count": 7,
   "id": "f298475d",
   "metadata": {
    "scrolled": false
   },
   "outputs": [
    {
     "name": "stderr",
     "output_type": "stream",
     "text": [
      "G:\\anaconda3\\lib\\site-packages\\sklearn\\linear_model\\_base.py:141: FutureWarning: 'normalize' was deprecated in version 1.0 and will be removed in 1.2.\n",
      "If you wish to scale the data, use Pipeline with a StandardScaler in a preprocessing stage. To reproduce the previous behavior:\n",
      "\n",
      "from sklearn.pipeline import make_pipeline\n",
      "\n",
      "model = make_pipeline(StandardScaler(with_mean=False), LinearRegression())\n",
      "\n",
      "If you wish to pass a sample_weight parameter, you need to pass it as a fit parameter to each step of the pipeline as follows:\n",
      "\n",
      "kwargs = {s[0] + '__sample_weight': sample_weight for s in model.steps}\n",
      "model.fit(X, y, **kwargs)\n",
      "\n",
      "\n",
      "  warnings.warn(\n",
      "G:\\anaconda3\\lib\\site-packages\\sklearn\\linear_model\\_base.py:141: FutureWarning: 'normalize' was deprecated in version 1.0 and will be removed in 1.2.\n",
      "If you wish to scale the data, use Pipeline with a StandardScaler in a preprocessing stage. To reproduce the previous behavior:\n",
      "\n",
      "from sklearn.pipeline import make_pipeline\n",
      "\n",
      "model = make_pipeline(StandardScaler(with_mean=False), LinearRegression())\n",
      "\n",
      "If you wish to pass a sample_weight parameter, you need to pass it as a fit parameter to each step of the pipeline as follows:\n",
      "\n",
      "kwargs = {s[0] + '__sample_weight': sample_weight for s in model.steps}\n",
      "model.fit(X, y, **kwargs)\n",
      "\n",
      "\n",
      "  warnings.warn(\n",
      "G:\\anaconda3\\lib\\site-packages\\sklearn\\linear_model\\_base.py:141: FutureWarning: 'normalize' was deprecated in version 1.0 and will be removed in 1.2.\n",
      "If you wish to scale the data, use Pipeline with a StandardScaler in a preprocessing stage. To reproduce the previous behavior:\n",
      "\n",
      "from sklearn.pipeline import make_pipeline\n",
      "\n",
      "model = make_pipeline(StandardScaler(with_mean=False), LinearRegression())\n",
      "\n",
      "If you wish to pass a sample_weight parameter, you need to pass it as a fit parameter to each step of the pipeline as follows:\n",
      "\n",
      "kwargs = {s[0] + '__sample_weight': sample_weight for s in model.steps}\n",
      "model.fit(X, y, **kwargs)\n",
      "\n",
      "\n",
      "  warnings.warn(\n",
      "G:\\anaconda3\\lib\\site-packages\\sklearn\\linear_model\\_base.py:141: FutureWarning: 'normalize' was deprecated in version 1.0 and will be removed in 1.2.\n",
      "If you wish to scale the data, use Pipeline with a StandardScaler in a preprocessing stage. To reproduce the previous behavior:\n",
      "\n",
      "from sklearn.pipeline import make_pipeline\n",
      "\n",
      "model = make_pipeline(StandardScaler(with_mean=False), LinearRegression())\n",
      "\n",
      "If you wish to pass a sample_weight parameter, you need to pass it as a fit parameter to each step of the pipeline as follows:\n",
      "\n",
      "kwargs = {s[0] + '__sample_weight': sample_weight for s in model.steps}\n",
      "model.fit(X, y, **kwargs)\n",
      "\n",
      "\n",
      "  warnings.warn(\n",
      "G:\\anaconda3\\lib\\site-packages\\sklearn\\linear_model\\_base.py:141: FutureWarning: 'normalize' was deprecated in version 1.0 and will be removed in 1.2.\n",
      "If you wish to scale the data, use Pipeline with a StandardScaler in a preprocessing stage. To reproduce the previous behavior:\n",
      "\n",
      "from sklearn.pipeline import make_pipeline\n",
      "\n",
      "model = make_pipeline(StandardScaler(with_mean=False), LinearRegression())\n",
      "\n",
      "If you wish to pass a sample_weight parameter, you need to pass it as a fit parameter to each step of the pipeline as follows:\n",
      "\n",
      "kwargs = {s[0] + '__sample_weight': sample_weight for s in model.steps}\n",
      "model.fit(X, y, **kwargs)\n",
      "\n",
      "\n",
      "  warnings.warn(\n",
      "G:\\anaconda3\\lib\\site-packages\\sklearn\\linear_model\\_base.py:141: FutureWarning: 'normalize' was deprecated in version 1.0 and will be removed in 1.2.\n",
      "If you wish to scale the data, use Pipeline with a StandardScaler in a preprocessing stage. To reproduce the previous behavior:\n",
      "\n",
      "from sklearn.pipeline import make_pipeline\n",
      "\n",
      "model = make_pipeline(StandardScaler(with_mean=False), LinearRegression())\n",
      "\n",
      "If you wish to pass a sample_weight parameter, you need to pass it as a fit parameter to each step of the pipeline as follows:\n",
      "\n",
      "kwargs = {s[0] + '__sample_weight': sample_weight for s in model.steps}\n",
      "model.fit(X, y, **kwargs)\n",
      "\n",
      "\n",
      "  warnings.warn(\n",
      "G:\\anaconda3\\lib\\site-packages\\sklearn\\linear_model\\_base.py:141: FutureWarning: 'normalize' was deprecated in version 1.0 and will be removed in 1.2.\n",
      "If you wish to scale the data, use Pipeline with a StandardScaler in a preprocessing stage. To reproduce the previous behavior:\n",
      "\n",
      "from sklearn.pipeline import make_pipeline\n",
      "\n",
      "model = make_pipeline(StandardScaler(with_mean=False), LinearRegression())\n",
      "\n",
      "If you wish to pass a sample_weight parameter, you need to pass it as a fit parameter to each step of the pipeline as follows:\n",
      "\n",
      "kwargs = {s[0] + '__sample_weight': sample_weight for s in model.steps}\n",
      "model.fit(X, y, **kwargs)\n",
      "\n",
      "\n",
      "  warnings.warn(\n"
     ]
    },
    {
     "data": {
      "image/png": "[encoded data removed]",
      "text/plain": [
       "<Figure size 640x480 with 1 Axes>"
      ]
     },
     "metadata": {},
     "output_type": "display_data"
    },
    {
     "data": {
      "image/png": "[encoded data removed]",
      "text/plain": [
       "<Figure size 640x480 with 1 Axes>"
      ]
     },
     "metadata": {},
     "output_type": "display_data"
    }
   ],
   "source": [
    "import matplotlib.pyplot as plt\n",
    "import numpy as np\n",
    "\n",
    "means = []\n",
    "scores = []\n",
    "\n",
    "for i in range(1,8,1):\n",
    "    pt = PolynomialFeatures(i, )#interaction_only=True)\n",
    "    airfoil_train_poly = pt.fit_transform(airfoil_train_data)\n",
    "    airfoil_test_poly = pt.fit_transform(airfoil_test_data)\n",
    "\n",
    "    lr_poly = LinearRegression(normalize=True)\n",
    "    lr_poly.fit(airfoil_train_poly, airfoil_train_target)\n",
    "    \n",
    "    means.append(mean_squared_error(airfoil_test_target, lr_poly.predict(airfoil_test_poly)))\n",
    "    scores.append(lr_poly.score(airfoil_test_poly, airfoil_test_target)) #r2_score\n",
    "\n",
    "# plot\n",
    "\n",
    "features = np.arange(1,8)\n",
    "\n",
    "fig, ax = plt.subplots()\n",
    "\n",
    "ax.plot(features, means, linewidth=2.0)\n",
    "\n",
    "plt.ylabel('means')\n",
    "plt.xlabel('degree')\n",
    "\n",
    "plt.show()\n",
    "\n",
    "fig, ax = plt.subplots()\n",
    "\n",
    "ax.plot(features, scores)\n",
    "\n",
    "plt.ylabel('scores')\n",
    "plt.xlabel('degree')\n",
    "\n",
    "plt.show()   "
   ]
  },
  {
   "cell_type": "code",
   "execution_count": null,
   "id": "08a37a35",
   "metadata": {},
   "outputs": [],
   "source": []
  }
 ],
 "metadata": {
  "kernelspec": {
   "display_name": "Python 3 (ipykernel)",
   "language": "python",
   "name": "python3"
  },
  "language_info": {
   "codemirror_mode": {
    "name": "ipython",
    "version": 3
   },
   "file_extension": ".py",
   "mimetype": "text/x-python",
   "name": "python",
   "nbconvert_exporter": "python",
   "pygments_lexer": "ipython3",
   "version": "3.9.13"
  }
 },
 "nbformat": 4,
 "nbformat_minor": 5
}
